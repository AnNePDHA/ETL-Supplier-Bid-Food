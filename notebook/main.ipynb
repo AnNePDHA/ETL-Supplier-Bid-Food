{
 "cells": [
  {
   "cell_type": "code",
   "execution_count": 1,
   "metadata": {},
   "outputs": [
    {
     "name": "stdout",
     "output_type": "stream",
     "text": [
      "0.Login into website...\n"
     ]
    }
   ],
   "source": [
    "'''\n",
    "Purpose: The main function, running all the processes\n",
    "'''\n",
    "\n",
    "import os\n",
    "PARENT_FOLDER = \"c:/Users/AnPham/OneDrive - NEW OCEAN INFORMATION SYSTEM COMPANY LIMITED/Documents/FutureLog_project/\"\n",
    "os.chdir(PARENT_FOLDER)\n",
    "\n",
    "from source.configuration import *\n",
    "from source.shared import *\n",
    "\n",
    "\n",
    "# 0. Login website with username and password\n",
    "print(\"0.Login into website...\")\n",
    "driver = webdriver.Chrome()\n",
    "driver.get(LOGIN_URL)\n",
    "login(driver)\n"
   ]
  },
  {
   "cell_type": "code",
   "execution_count": null,
   "metadata": {},
   "outputs": [],
   "source": [
    "print(\"1.1 Crawling data...\")\n",
    "\n",
    "all_productID, visit_page_time, error_page = get_all_item_ID(driver)\n",
    "print(len(all_productID))\n",
    "\n",
    "all_productID = set(all_productID)\n",
    "\n",
    "df, error_ID = get_item_discription(driver, all_productID, ITEM_URL)\n",
    "data = pd.DataFrame(df, columns=['Product Code', 'Brand',\"Type\" ,\"Description\",\"Product Line\", \"Category\",\"Warehouse\" ,\"Pack Size\", \"Uom\",\"Ctn Qty\", \"Ctn Uom\" ,\"Unit Stock\",\"Ctn Stock\",\"Unit price\",\"Ctn Price\",\"Tax%\",\"Img Name\",\"Get data time\"])\n",
    "display(data)\n",
    "data.to_excel(\"sample_crawling_data.xlsx\", index = False)"
   ]
  },
  {
   "cell_type": "code",
   "execution_count": null,
   "metadata": {},
   "outputs": [],
   "source": [
    "print(\"1.2 Validate date...\")\n"
   ]
  }
 ],
 "metadata": {
  "kernelspec": {
   "display_name": "Python 3",
   "language": "python",
   "name": "python3"
  },
  "language_info": {
   "codemirror_mode": {
    "name": "ipython",
    "version": 3
   },
   "file_extension": ".py",
   "mimetype": "text/x-python",
   "name": "python",
   "nbconvert_exporter": "python",
   "pygments_lexer": "ipython3",
   "version": "3.9.1"
  },
  "orig_nbformat": 4
 },
 "nbformat": 4,
 "nbformat_minor": 2
}
